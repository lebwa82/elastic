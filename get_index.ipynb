{
 "cells": [
  {
   "cell_type": "code",
   "execution_count": 1,
   "metadata": {},
   "outputs": [],
   "source": [
    "import time\n",
    "from elasticsearch7 import Elasticsearch\n",
    "es = Elasticsearch([{'host': 'localhost', 'port': 9200}])\n"
   ]
  },
  {
   "cell_type": "code",
   "execution_count": 5,
   "metadata": {},
   "outputs": [
    {
     "name": "stdout",
     "output_type": "stream",
     "text": [
      "{'took': 4, 'timed_out': False, '_shards': {'total': 1, 'successful': 1, 'skipped': 0, 'failed': 0}, 'hits': {'total': {'value': 2669, 'relation': 'eq'}, 'max_score': 1.0, 'hits': [{'_index': 'bulk1', '_type': '_doc', '_id': '1', '_score': 1.0, '_source': {'text': 'CATEGORIES: American theatre managers and producers, People from Brooklyn, Living people, 1950s births, Date of birth missing (living people), Artists from New York City, Activists from New York (state), Sculptors from New York (state)\\n'}}, {'_index': 'bulk1', '_type': '_doc', '_id': '2', '_score': 1.0, '_source': {'text': 'CATEGORIES: Opatów, Romanesque architecture in Poland, Churches in Świętokrzyskie Voivodeship\\n'}}, {'_index': 'bulk1', '_type': '_doc', '_id': '3', '_score': 1.0, '_source': {'text': 'CATEGORIES: Email, Internet terminology, Electronic documents, History of the Internet, Computer-related introductions in 1971\\n'}}, {'_index': 'bulk1', '_type': '_doc', '_id': '4', '_score': 1.0, '_source': {'text': 'CATEGORIES: 1997 establishments in Iran, 1997 establishments in Turkmenistan, Energy in Central Asia, Energy infrastructure completed in 1997, Iran–Turkmenistan relations, Natural gas pipelines in Iran, Natural gas pipelines in Turkmenistan\\n'}}, {'_index': 'bulk1', '_type': '_doc', '_id': '5', '_score': 1.0, '_source': {'text': 'CATEGORIES: Eurovision songs of 1997, Eurovision songs of Denmark\\n'}}, {'_index': 'bulk1', '_type': '_doc', '_id': '6', '_score': 1.0, '_source': {'text': 'CATEGORIES: 1987 in Australian motorsport, 1987 World Touring Car Championship season, Auto races in Australia\\n'}}, {'_index': 'bulk1', '_type': '_doc', '_id': '7', '_score': 1.0, '_ignored': ['text.keyword'], '_source': {'text': \"CATEGORIES: Republican Party Oregon state senators, Physicians from Oregon, 1899 births, 1976 deaths, People from Linn County, Oregon, Harvard Medical School alumni, Sportspeople from Medford, Oregon, Oregon Ducks men's basketball players, People from Silverton, Oregon, Basketball players from Oregon, All-American college men's basketball players, American men's basketball players, Republican Party members of the United States House of Representatives from Oregon, 20th-century American politicians\\n\"}}, {'_index': 'bulk1', '_type': '_doc', '_id': '8', '_score': 1.0, '_source': {'text': 'CATEGORIES: Leander-class frigates, 1962 ships, Ships built on the River Clyde\\n'}}, {'_index': 'bulk1', '_type': '_doc', '_id': '9', '_score': 1.0, '_source': {'text': 'CATEGORIES: Villages in Jaffna District, Vadamarachchi North DS Division, Vadamarachchi South West DS Division\\n'}}, {'_index': 'bulk1', '_type': '_doc', '_id': '10', '_score': 1.0, '_source': {'text': 'CATEGORIES: 1958 births, 21st-century American physicists, Cornell University alumni, Living people, American string theorists\\n'}}]}}\n"
     ]
    },
    {
     "name": "stderr",
     "output_type": "stream",
     "text": [
      "/home/dima/.local/lib/python3.10/site-packages/elasticsearch7/connection/base.py:200: ElasticsearchWarning: Elasticsearch built-in security features are not enabled. Without authentication, your cluster could be accessible to anyone. See https://www.elastic.co/guide/en/elasticsearch/reference/7.17/security-minimal-setup.html to enable security.\n",
      "  warnings.warn(message, category=ElasticsearchWarning)\n"
     ]
    }
   ],
   "source": [
    "result = es.search(index=\"bulk1\", query={\"match_all\":{}})\n",
    "print(result)"
   ]
  },
  {
   "cell_type": "code",
   "execution_count": null,
   "metadata": {},
   "outputs": [],
   "source": [
    "\n"
   ]
  }
 ],
 "metadata": {
  "kernelspec": {
   "display_name": "Python 3",
   "language": "python",
   "name": "python3"
  },
  "language_info": {
   "codemirror_mode": {
    "name": "ipython",
    "version": 3
   },
   "file_extension": ".py",
   "mimetype": "text/x-python",
   "name": "python",
   "nbconvert_exporter": "python",
   "pygments_lexer": "ipython3",
   "version": "3.10.6"
  },
  "orig_nbformat": 4
 },
 "nbformat": 4,
 "nbformat_minor": 2
}
