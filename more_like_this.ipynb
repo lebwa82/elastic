{
 "cells": [
  {
   "cell_type": "code",
   "execution_count": 1,
   "metadata": {},
   "outputs": [],
   "source": [
    "import time\n",
    "\n",
    "from elasticsearch7 import Elasticsearch\n",
    "es = Elasticsearch([{'host': 'localhost', 'port': 9200}])"
   ]
  },
  {
   "cell_type": "code",
   "execution_count": 8,
   "metadata": {},
   "outputs": [
    {
     "name": "stdout",
     "output_type": "stream",
     "text": [
      "<Elasticsearch([{'host': 'localhost', 'port': 9200}])>\n",
      "{'name': 'dima-MS-7971', 'cluster_name': 'elasticsearch', 'cluster_uuid': 'nabmRfH0Sc2AqQGqUIIxUA', 'version': {'number': '7.17.9', 'build_flavor': 'default', 'build_type': 'tar', 'build_hash': 'ef48222227ee6b9e70e502f0f0daa52435ee634d', 'build_date': '2023-01-31T05:34:43.305517834Z', 'build_snapshot': False, 'lucene_version': '8.11.1', 'minimum_wire_compatibility_version': '6.8.0', 'minimum_index_compatibility_version': '6.0.0-beta1'}, 'tagline': 'You Know, for Search'}\n"
     ]
    },
    {
     "name": "stderr",
     "output_type": "stream",
     "text": [
      "/home/dima/.local/lib/python3.10/site-packages/elasticsearch7/connection/base.py:200: ElasticsearchWarning: Elasticsearch built-in security features are not enabled. Without authentication, your cluster could be accessible to anyone. See https://www.elastic.co/guide/en/elasticsearch/reference/7.17/security-minimal-setup.html to enable security.\n",
      "  warnings.warn(message, category=ElasticsearchWarning)\n"
     ]
    },
    {
     "name": "stdout",
     "output_type": "stream",
     "text": [
      "54.4556405544281\n"
     ]
    }
   ],
   "source": [
    "\n",
    "\n",
    "print(es)\n",
    "print(es.info())\n",
    "\n",
    "file = open('data.xml-0001.txt', 'r')\n",
    "\n",
    "es.indices.delete(index=\"wiki1\")\n",
    "es.indices.create(index=\"wiki1\")  \n",
    "start = time.time()\n",
    "id = 1\n",
    "while True:\n",
    "    line = file.readline()\n",
    "    if not line:\n",
    "        break\n",
    "    if not line[0].isalpha():\n",
    "        continue\n",
    "\n",
    "    doc = {'text': line}\n",
    "    es.index(index=\"wiki1\", id=id, document=doc)\n",
    "    id += 1\n",
    "\n",
    "end = time.time()\n",
    "print(end - start) "
   ]
  },
  {
   "cell_type": "code",
   "execution_count": 6,
   "metadata": {},
   "outputs": [
    {
     "data": {
      "text/plain": [
       "{'_index': 'wiki1',\n",
       " '_type': '_doc',\n",
       " '_id': '3',\n",
       " '_version': 1,\n",
       " '_seq_no': 2,\n",
       " '_primary_term': 1,\n",
       " '_ignored': ['text.keyword'],\n",
       " 'found': True,\n",
       " '_source': {'text': \"Humans lived in societies without formal hierarchies long before the establishment of formal states, realms, or empires. With the rise of organised hierarchical bodies, scepticism toward authority also rose. Although traces of anarchist thought are found throughout history, modern anarchism emerged from the Enlightenment. During the latter half of the 19th and the first decades of the 20th century, the anarchist movement flourished in most parts of the world and had a significant role in workers' struggles for emancipation. Various anarchist schools of thought formed during this period. Anarchists have taken part in several revolutions, most notably in the Paris Commune, the Russian Civil War and the Spanish Civil War, whose end marked the end of the classical era of anarchism. In the last decades of the 20th and into the 21st century, the anarchist movement has been resurgent once more, growing in popularity and influence within anti-capitalist, anti-war and anti-globalisation movements.\\n\"}}"
      ]
     },
     "execution_count": 6,
     "metadata": {},
     "output_type": "execute_result"
    }
   ],
   "source": [
    "res = es.get(index=\"wiki1\", id=3)\n",
    "res"
   ]
  },
  {
   "cell_type": "code",
   "execution_count": 7,
   "metadata": {},
   "outputs": [
    {
     "name": "stderr",
     "output_type": "stream",
     "text": [
      "/home/dima/.local/lib/python3.10/site-packages/elasticsearch7/connection/base.py:200: ElasticsearchWarning: Elasticsearch built-in security features are not enabled. Without authentication, your cluster could be accessible to anyone. See https://www.elastic.co/guide/en/elasticsearch/reference/7.17/security-minimal-setup.html to enable security.\n",
      "  warnings.warn(message, category=ElasticsearchWarning)\n"
     ]
    },
    {
     "data": {
      "text/plain": [
       "{'count': 6951,\n",
       " '_shards': {'total': 1, 'successful': 1, 'skipped': 0, 'failed': 0}}"
      ]
     },
     "execution_count": 7,
     "metadata": {},
     "output_type": "execute_result"
    }
   ],
   "source": [
    "es.count(index='wiki1')"
   ]
  },
  {
   "cell_type": "code",
   "execution_count": 9,
   "metadata": {},
   "outputs": [],
   "source": [
    "\n",
    "a = es.search(index='wiki1', query = {\n",
    "    \"more_like_this\" : {\n",
    "        \"fields\" : ['text'],\n",
    "        \"like\" : \"Elon Musk launched starlink\",\n",
    "        \"min_term_freq\" : 1,\n",
    "        \"max_query_terms\" : 12\n",
    "        }\n",
    "    }\n",
    ")\n"
   ]
  },
  {
   "cell_type": "code",
   "execution_count": 10,
   "metadata": {},
   "outputs": [
    {
     "name": "stdout",
     "output_type": "stream",
     "text": [
      "CATEGORIES: Apollo 8, Apollo program missions, Crewed missions to the Moon, Spacecraft launched in 1968, 1968 in the United States, Spacecraft which reentered in 1968, December 1968 events, Spacecraft launched by Saturn rockets, Jim Lovell, William Anders, Frank Borman\n",
      "\n",
      "The first human in space was Soviet Yuri Gagarin, who was launched on 12 April 1961, aboard Vostok 1 and orbited around the Earth for 108 minutes. The first woman in space was Soviet Valentina Tereshkova, who launched on 16 June 1963, aboard Vostok 6 and orbited Earth for almost three days.\n",
      "\n",
      "NASA's Psyche would be launched in 2023 or 2024 to study the large metallic asteroid of the same name.\n",
      "\n",
      "Several projects aiming to create androids that look, and, to a certain degree, speak or act like a human being have been launched or are underway.\n",
      "\n",
      "NASA's Lucy, launched in 2021, would visit eight asteroids, one from the main belt and seven Jupiter trojans; it is the first mission to trojans. The main mission would start in 2027.\n",
      "\n",
      "CATEGORIES: Apollo 11, Buzz Aldrin, Neil Armstrong, Michael Collins (astronaut), Apollo program missions, 1969 on the Moon, Soft landings on the Moon, Spacecraft launched by Saturn rockets, Articles containing video clips, Crewed missions to the Moon\n",
      "\n",
      "Burnside, against presidential advice, launched an offensive across the Rappahannock River and was defeated by Lee at Fredericksburg in December. Desertions during 1863 came in the thousands and only increased after Fredericksburg, so Lincoln replaced Burnside with Joseph Hooker.\n",
      "\n",
      "Asteroids have been historically observed from Earth; the Galileo spacecraft provided the first close observation of an asteroid. Several dedicated missions to asteroids were subsequently launched by NASA and JAXA, with plans for other missions in progress. NASA's NEAR Shoemaker studied Eros, and Dawn observed Vesta and Ceres. JAXA's missions Hayabusa and Hayabusa2 studied and returned samples of Itokawa and Ryugu, respectively. OSIRIS-REx studied Bennu, collecting a sample in 2020 to be delivered back to Earth in 2023. NASA's Lucy, launched in 2021, will study ten different asteroids, two from the main belt and eight Jupiter trojans. Psyche, scheduled for launch in 2023, will study a metallic asteroid of the same name.\n",
      "\n",
      "Hayabusa2, a probe launched by JAXA 2014, orbited its target asteroid  162173 Ryugu for more than a year and took samples that were delivered to Earth in 2020. The spacecraft is now on an extended mission and expected to arrive at a new target in 2031.\n",
      "\n",
      "On 19 December 2014, the Capital Market in Angola was launched. BODIVA (Angola Stock Exchange and Derivatives, in English) was allocated the secondary public debt market, and was expected to launch the corporate debt market by 2015, though the stock market itself was only expected to commence trading in 2016.\n",
      "\n"
     ]
    }
   ],
   "source": [
    "for element in a['hits']['hits']:\n",
    "    print(element['_source']['text'])"
   ]
  },
  {
   "cell_type": "code",
   "execution_count": 11,
   "metadata": {},
   "outputs": [
    {
     "data": {
      "text/plain": [
       "{'took': 17,\n",
       " 'timed_out': False,\n",
       " '_shards': {'total': 1, 'successful': 1, 'skipped': 0, 'failed': 0},\n",
       " 'hits': {'total': {'value': 64, 'relation': 'eq'},\n",
       "  'max_score': 7.537093,\n",
       "  'hits': [{'_index': 'wiki1',\n",
       "    '_type': '_doc',\n",
       "    '_id': '3015',\n",
       "    '_score': 7.537093,\n",
       "    '_ignored': ['text.keyword'],\n",
       "    '_source': {'text': 'CATEGORIES: Apollo 8, Apollo program missions, Crewed missions to the Moon, Spacecraft launched in 1968, 1968 in the United States, Spacecraft which reentered in 1968, December 1968 events, Spacecraft launched by Saturn rockets, Jim Lovell, William Anders, Frank Borman\\n'}},\n",
       "   {'_index': 'wiki1',\n",
       "    '_type': '_doc',\n",
       "    '_id': '3115',\n",
       "    '_score': 7.159604,\n",
       "    '_ignored': ['text.keyword'],\n",
       "    '_source': {'text': 'The first human in space was Soviet Yuri Gagarin, who was launched on 12 April 1961, aboard Vostok 1 and orbited around the Earth for 108 minutes. The first woman in space was Soviet Valentina Tereshkova, who launched on 16 June 1963, aboard Vostok 6 and orbited Earth for almost three days.\\n'}},\n",
       "   {'_index': 'wiki1',\n",
       "    '_type': '_doc',\n",
       "    '_id': '6029',\n",
       "    '_score': 6.816287,\n",
       "    '_source': {'text': \"NASA's Psyche would be launched in 2023 or 2024 to study the large metallic asteroid of the same name.\\n\"}},\n",
       "   {'_index': 'wiki1',\n",
       "    '_type': '_doc',\n",
       "    '_id': '4374',\n",
       "    '_score': 6.483364,\n",
       "    '_source': {'text': 'Several projects aiming to create androids that look, and, to a certain degree, speak or act like a human being have been launched or are underway.\\n'}},\n",
       "   {'_index': 'wiki1',\n",
       "    '_type': '_doc',\n",
       "    '_id': '6027',\n",
       "    '_score': 6.222845,\n",
       "    '_source': {'text': \"NASA's Lucy, launched in 2021, would visit eight asteroids, one from the main belt and seven Jupiter trojans; it is the first mission to trojans. The main mission would start in 2027.\\n\"}},\n",
       "   {'_index': 'wiki1',\n",
       "    '_type': '_doc',\n",
       "    '_id': '2893',\n",
       "    '_score': 6.0604944,\n",
       "    '_source': {'text': 'CATEGORIES: Apollo 11, Buzz Aldrin, Neil Armstrong, Michael Collins (astronaut), Apollo program missions, 1969 on the Moon, Soft landings on the Moon, Spacecraft launched by Saturn rockets, Articles containing video clips, Crewed missions to the Moon\\n'}},\n",
       "   {'_index': 'wiki1',\n",
       "    '_type': '_doc',\n",
       "    '_id': '329',\n",
       "    '_score': 5.944184,\n",
       "    '_ignored': ['text.keyword'],\n",
       "    '_source': {'text': 'Burnside, against presidential advice, launched an offensive across the Rappahannock River and was defeated by Lee at Fredericksburg in December. Desertions during 1863 came in the thousands and only increased after Fredericksburg, so Lincoln replaced Burnside with Joseph Hooker.\\n'}},\n",
       "   {'_index': 'wiki1',\n",
       "    '_type': '_doc',\n",
       "    '_id': '5943',\n",
       "    '_score': 5.8153434,\n",
       "    '_ignored': ['text.keyword'],\n",
       "    '_source': {'text': \"Asteroids have been historically observed from Earth; the Galileo spacecraft provided the first close observation of an asteroid. Several dedicated missions to asteroids were subsequently launched by NASA and JAXA, with plans for other missions in progress. NASA's NEAR Shoemaker studied Eros, and Dawn observed Vesta and Ceres. JAXA's missions Hayabusa and Hayabusa2 studied and returned samples of Itokawa and Ryugu, respectively. OSIRIS-REx studied Bennu, collecting a sample in 2020 to be delivered back to Earth in 2023. NASA's Lucy, launched in 2021, will study ten different asteroids, two from the main belt and eight Jupiter trojans. Psyche, scheduled for launch in 2023, will study a metallic asteroid of the same name.\\n\"}},\n",
       "   {'_index': 'wiki1',\n",
       "    '_type': '_doc',\n",
       "    '_id': '6023',\n",
       "    '_score': 5.6894097,\n",
       "    '_source': {'text': 'Hayabusa2, a probe launched by JAXA 2014, orbited its target asteroid  162173 Ryugu for more than a year and took samples that were delivered to Earth in 2020. The spacecraft is now on an extended mission and expected to arrive at a new target in 2031.\\n'}},\n",
       "   {'_index': 'wiki1',\n",
       "    '_type': '_doc',\n",
       "    '_id': '4161',\n",
       "    '_score': 5.553396,\n",
       "    '_ignored': ['text.keyword'],\n",
       "    '_source': {'text': 'On 19 December 2014, the Capital Market in Angola was launched. BODIVA (Angola Stock Exchange and Derivatives, in English) was allocated the secondary public debt market, and was expected to launch the corporate debt market by 2015, though the stock market itself was only expected to commence trading in 2016.\\n'}}]}}"
      ]
     },
     "execution_count": 11,
     "metadata": {},
     "output_type": "execute_result"
    }
   ],
   "source": [
    "a"
   ]
  },
  {
   "cell_type": "code",
   "execution_count": null,
   "metadata": {},
   "outputs": [],
   "source": []
  }
 ],
 "metadata": {
  "kernelspec": {
   "display_name": "Python 3",
   "language": "python",
   "name": "python3"
  },
  "language_info": {
   "codemirror_mode": {
    "name": "ipython",
    "version": 3
   },
   "file_extension": ".py",
   "mimetype": "text/x-python",
   "name": "python",
   "nbconvert_exporter": "python",
   "pygments_lexer": "ipython3",
   "version": "3.10.6"
  },
  "orig_nbformat": 4
 },
 "nbformat": 4,
 "nbformat_minor": 2
}
