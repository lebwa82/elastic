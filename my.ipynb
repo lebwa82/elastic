{
 "cells": [
  {
   "cell_type": "code",
   "execution_count": 8,
   "metadata": {},
   "outputs": [
    {
     "name": "stdout",
     "output_type": "stream",
     "text": [
      "<Elasticsearch([{'host': 'localhost', 'port': 9200}])>\n",
      "{'name': 'dima-MS-7971', 'cluster_name': 'elasticsearch', 'cluster_uuid': 'nabmRfH0Sc2AqQGqUIIxUA', 'version': {'number': '7.17.9', 'build_flavor': 'default', 'build_type': 'tar', 'build_hash': 'ef48222227ee6b9e70e502f0f0daa52435ee634d', 'build_date': '2023-01-31T05:34:43.305517834Z', 'build_snapshot': False, 'lucene_version': '8.11.1', 'minimum_wire_compatibility_version': '6.8.0', 'minimum_index_compatibility_version': '6.0.0-beta1'}, 'tagline': 'You Know, for Search'}\n"
     ]
    },
    {
     "name": "stderr",
     "output_type": "stream",
     "text": [
      "/home/dima/.local/lib/python3.10/site-packages/elasticsearch7/connection/base.py:200: ElasticsearchWarning: Elasticsearch built-in security features are not enabled. Without authentication, your cluster could be accessible to anyone. See https://www.elastic.co/guide/en/elasticsearch/reference/7.17/security-minimal-setup.html to enable security.\n",
      "  warnings.warn(message, category=ElasticsearchWarning)\n"
     ]
    },
    {
     "name": "stdout",
     "output_type": "stream",
     "text": [
      "54.4556405544281\n"
     ]
    }
   ],
   "source": [
    "import time\n",
    "\n",
    "from elasticsearch7 import Elasticsearch\n",
    "es = Elasticsearch([{'host': 'localhost', 'port': 9200}])\n",
    "\n",
    "print(es)\n",
    "print(es.info())\n",
    "\n",
    "file = open('data.xml-0001.txt', 'r')\n",
    "\n",
    "es.indices.delete(index=\"wiki1\")\n",
    "es.indices.create(index=\"wiki1\")  \n",
    "start = time.time()\n",
    "id = 1\n",
    "while True:\n",
    "    line = file.readline()\n",
    "    if not line:\n",
    "        break\n",
    "    if not line[0].isalpha():\n",
    "        continue\n",
    "\n",
    "    doc = {'text': line}\n",
    "    es.index(index=\"wiki1\", id=id, document=doc)\n",
    "    id += 1\n",
    "\n",
    "end = time.time()\n",
    "print(end - start) "
   ]
  },
  {
   "cell_type": "code",
   "execution_count": 6,
   "metadata": {},
   "outputs": [
    {
     "data": {
      "text/plain": [
       "{'_index': 'wiki1',\n",
       " '_type': '_doc',\n",
       " '_id': '3',\n",
       " '_version': 1,\n",
       " '_seq_no': 2,\n",
       " '_primary_term': 1,\n",
       " '_ignored': ['text.keyword'],\n",
       " 'found': True,\n",
       " '_source': {'text': \"Humans lived in societies without formal hierarchies long before the establishment of formal states, realms, or empires. With the rise of organised hierarchical bodies, scepticism toward authority also rose. Although traces of anarchist thought are found throughout history, modern anarchism emerged from the Enlightenment. During the latter half of the 19th and the first decades of the 20th century, the anarchist movement flourished in most parts of the world and had a significant role in workers' struggles for emancipation. Various anarchist schools of thought formed during this period. Anarchists have taken part in several revolutions, most notably in the Paris Commune, the Russian Civil War and the Spanish Civil War, whose end marked the end of the classical era of anarchism. In the last decades of the 20th and into the 21st century, the anarchist movement has been resurgent once more, growing in popularity and influence within anti-capitalist, anti-war and anti-globalisation movements.\\n\"}}"
      ]
     },
     "execution_count": 6,
     "metadata": {},
     "output_type": "execute_result"
    }
   ],
   "source": [
    "res = es.get(index=\"wiki1\", id=3)\n",
    "res"
   ]
  },
  {
   "cell_type": "code",
   "execution_count": 7,
   "metadata": {},
   "outputs": [
    {
     "name": "stderr",
     "output_type": "stream",
     "text": [
      "/home/dima/.local/lib/python3.10/site-packages/elasticsearch7/connection/base.py:200: ElasticsearchWarning: Elasticsearch built-in security features are not enabled. Without authentication, your cluster could be accessible to anyone. See https://www.elastic.co/guide/en/elasticsearch/reference/7.17/security-minimal-setup.html to enable security.\n",
      "  warnings.warn(message, category=ElasticsearchWarning)\n"
     ]
    },
    {
     "data": {
      "text/plain": [
       "{'count': 6951,\n",
       " '_shards': {'total': 1, 'successful': 1, 'skipped': 0, 'failed': 0}}"
      ]
     },
     "execution_count": 7,
     "metadata": {},
     "output_type": "execute_result"
    }
   ],
   "source": [
    "es.count(index='wiki1')"
   ]
  },
  {
   "cell_type": "code",
   "execution_count": 44,
   "metadata": {},
   "outputs": [
    {
     "data": {
      "text/plain": [
       "{'took': 2,\n",
       " 'timed_out': False,\n",
       " '_shards': {'total': 1, 'successful': 1, 'skipped': 0, 'failed': 0},\n",
       " 'hits': {'total': {'value': 129, 'relation': 'eq'},\n",
       "  'max_score': 6.705333,\n",
       "  'hits': [{'_index': 'wiki1',\n",
       "    '_type': '_doc',\n",
       "    '_id': '792',\n",
       "    '_score': 6.705333,\n",
       "    '_ignored': ['text.keyword'],\n",
       "    '_source': {'text': 'Rand called her philosophy \"Objectivism\", describing its essence as \"the concept of man as a heroic being, with his own happiness as the moral purpose of his life, with productive achievement as his noblest activity, and reason as his only absolute\". She considered Objectivism a systematic philosophy and laid out positions on metaphysics, aesthetics, epistemology, ethics, and political philosophy.\\n'}},\n",
       "   {'_index': 'wiki1',\n",
       "    '_type': '_doc',\n",
       "    '_id': '1109',\n",
       "    '_score': 6.260377,\n",
       "    '_source': {'text': 'CATEGORIES: Alchemy, Esotericism, Hermeticism, Natural philosophy, History of science\\n'}},\n",
       "   {'_index': 'wiki1',\n",
       "    '_type': '_doc',\n",
       "    '_id': '4044',\n",
       "    '_score': 6.2112055,\n",
       "    '_source': {'text': \"In Schopenhauer's philosophy, denial of the will is attained by:\\n\"}},\n",
       "   {'_index': 'wiki1',\n",
       "    '_type': '_doc',\n",
       "    '_id': '472',\n",
       "    '_score': 6.1151447,\n",
       "    '_source': {'text': \"Aristotle's practical philosophy covers areas such as ethics, politics, economics, and rhetoric.\\n\"}},\n",
       "   {'_index': 'wiki1',\n",
       "    '_type': '_doc',\n",
       "    '_id': '438',\n",
       "    '_score': 6.0360346,\n",
       "    '_ignored': ['text.keyword'],\n",
       "    '_source': {'text': 'Aristotle\\'s \"natural philosophy\" spans a wide range of natural phenomena including those now covered by physics, biology and other natural sciences. In Aristotle\\'s terminology, \"natural philosophy\" is a branch of philosophy examining the phenomena of the natural world, and includes fields that would be regarded today as physics, biology and other natural sciences. Aristotle\\'s work encompassed virtually all facets of intellectual inquiry. Aristotle makes philosophy in the broad sense coextensive with reasoning, which he also would describe as \"science\". However, his use of the term science carries a different meaning than that covered by the term \"scientific method\". For Aristotle, \"all science (dianoia) is either practical, poetical or theoretical\" (Metaphysics 1025b25). His practical science includes ethics and politics; his poetical science means the study of fine arts including poetry; his theoretical science covers physics, mathematics and metaphysics.\\n'}},\n",
       "   {'_index': 'wiki1',\n",
       "    '_type': '_doc',\n",
       "    '_id': '701',\n",
       "    '_score': 5.9764986,\n",
       "    '_source': {'text': 'CATEGORIES: Altruism, Auguste Comte, Defence mechanisms, Morality, Moral psychology, Philanthropy, Social philosophy, Interpersonal relationships, Virtue\\n'}},\n",
       "   {'_index': 'wiki1',\n",
       "    '_type': '_doc',\n",
       "    '_id': '430',\n",
       "    '_score': 5.91113,\n",
       "    '_ignored': ['text.keyword'],\n",
       "    '_source': {'text': 'The word \"metaphysics\" appears to have been coined by the first century AD editor who assembled various small selections of Aristotle\\'s works to the treatise we know by the name Metaphysics. Aristotle called it \"first philosophy\", and distinguished it from mathematics and natural science (physics) as the contemplative (theoretikē) philosophy which is \"theological\" and studies the divine. He wrote in his Metaphysics (1026a16):\\n'}},\n",
       "   {'_index': 'wiki1',\n",
       "    '_type': '_doc',\n",
       "    '_id': '4067',\n",
       "    '_score': 5.6762114,\n",
       "    '_source': {'text': 'Schopenhauer dedicated one fifth of his main work, The World as Will and Representation, to a detailed criticism of the Kantian philosophy.\\n'}},\n",
       "   {'_index': 'wiki1',\n",
       "    '_type': '_doc',\n",
       "    '_id': '4062',\n",
       "    '_score': 5.657399,\n",
       "    '_ignored': ['text.keyword'],\n",
       "    '_source': {'text': \"Schopenhauer expressed regret that Spinoza stuck for the presentation of his philosophy with the concepts of scholasticism and Cartesian philosophy, and tried to use geometrical proofs that do not hold because of vague and overly broad definitions. Bruno on the other hand, who knew much about nature and ancient literature, presented his ideas with Italian vividness, and is amongst philosophers the only one who comes near Plato's poetic and dramatic power of exposition.\\n\"}},\n",
       "   {'_index': 'wiki1',\n",
       "    '_type': '_doc',\n",
       "    '_id': '4064',\n",
       "    '_score': 5.657399,\n",
       "    '_ignored': ['text.keyword'],\n",
       "    '_source': {'text': \"The importance of Kant for Schopenhauer, in philosophy as well as on a personal level, cannot be overstated. Kant's philosophy was the foundation of Schopenhauer's, and he had high praise for the Transcendental Aesthetic section of Kant's Critique of Pure Reason. Schopenhauer maintained that Kant stands in the same relation to philosophers such as Berkeley and Plato, as Copernicus to Hicetas, Philolaus, and Aristarchus: Kant succeeded in demonstrating what previous philosophers merely asserted.\\n\"}}]}}"
      ]
     },
     "execution_count": 44,
     "metadata": {},
     "output_type": "execute_result"
    }
   ],
   "source": [
    "\n",
    "a = es.search(index='wiki1', query = {\n",
    "    \"more_like_this\" : {\n",
    "        \"fields\" : ['text'],\n",
    "        \"like\" : \"philosophy\",\n",
    "        \"min_term_freq\" : 1,\n",
    "        \"max_query_terms\" : 12\n",
    "        }\n",
    "    }\n",
    ")\n",
    "es.search(index='wiki1', query = {\n",
    "    \"more_like_this\" : {\n",
    "        \"fields\" : ['text'],\n",
    "        \"like\" : \"philosophy\",\n",
    "        \"min_term_freq\" : 1,\n",
    "        #\"max_query_terms\" : 12\n",
    "        }\n",
    "    }\n",
    ")"
   ]
  },
  {
   "cell_type": "code",
   "execution_count": 45,
   "metadata": {},
   "outputs": [
    {
     "name": "stdout",
     "output_type": "stream",
     "text": [
      "Rand called her philosophy \"Objectivism\", describing its essence as \"the concept of man as a heroic being, with his own happiness as the moral purpose of his life, with productive achievement as his noblest activity, and reason as his only absolute\". She considered Objectivism a systematic philosophy and laid out positions on metaphysics, aesthetics, epistemology, ethics, and political philosophy.\n",
      "\n",
      "CATEGORIES: Alchemy, Esotericism, Hermeticism, Natural philosophy, History of science\n",
      "\n",
      "In Schopenhauer's philosophy, denial of the will is attained by:\n",
      "\n",
      "Aristotle's practical philosophy covers areas such as ethics, politics, economics, and rhetoric.\n",
      "\n",
      "Aristotle's \"natural philosophy\" spans a wide range of natural phenomena including those now covered by physics, biology and other natural sciences. In Aristotle's terminology, \"natural philosophy\" is a branch of philosophy examining the phenomena of the natural world, and includes fields that would be regarded today as physics, biology and other natural sciences. Aristotle's work encompassed virtually all facets of intellectual inquiry. Aristotle makes philosophy in the broad sense coextensive with reasoning, which he also would describe as \"science\". However, his use of the term science carries a different meaning than that covered by the term \"scientific method\". For Aristotle, \"all science (dianoia) is either practical, poetical or theoretical\" (Metaphysics 1025b25). His practical science includes ethics and politics; his poetical science means the study of fine arts including poetry; his theoretical science covers physics, mathematics and metaphysics.\n",
      "\n",
      "CATEGORIES: Altruism, Auguste Comte, Defence mechanisms, Morality, Moral psychology, Philanthropy, Social philosophy, Interpersonal relationships, Virtue\n",
      "\n",
      "The word \"metaphysics\" appears to have been coined by the first century AD editor who assembled various small selections of Aristotle's works to the treatise we know by the name Metaphysics. Aristotle called it \"first philosophy\", and distinguished it from mathematics and natural science (physics) as the contemplative (theoretikē) philosophy which is \"theological\" and studies the divine. He wrote in his Metaphysics (1026a16):\n",
      "\n",
      "Schopenhauer dedicated one fifth of his main work, The World as Will and Representation, to a detailed criticism of the Kantian philosophy.\n",
      "\n",
      "Schopenhauer expressed regret that Spinoza stuck for the presentation of his philosophy with the concepts of scholasticism and Cartesian philosophy, and tried to use geometrical proofs that do not hold because of vague and overly broad definitions. Bruno on the other hand, who knew much about nature and ancient literature, presented his ideas with Italian vividness, and is amongst philosophers the only one who comes near Plato's poetic and dramatic power of exposition.\n",
      "\n",
      "The importance of Kant for Schopenhauer, in philosophy as well as on a personal level, cannot be overstated. Kant's philosophy was the foundation of Schopenhauer's, and he had high praise for the Transcendental Aesthetic section of Kant's Critique of Pure Reason. Schopenhauer maintained that Kant stands in the same relation to philosophers such as Berkeley and Plato, as Copernicus to Hicetas, Philolaus, and Aristarchus: Kant succeeded in demonstrating what previous philosophers merely asserted.\n",
      "\n"
     ]
    }
   ],
   "source": [
    "for element in a['hits']['hits']:\n",
    "    print(element['_source']['text'])"
   ]
  },
  {
   "cell_type": "code",
   "execution_count": null,
   "metadata": {},
   "outputs": [],
   "source": []
  }
 ],
 "metadata": {
  "kernelspec": {
   "display_name": "Python 3",
   "language": "python",
   "name": "python3"
  },
  "language_info": {
   "codemirror_mode": {
    "name": "ipython",
    "version": 3
   },
   "file_extension": ".py",
   "mimetype": "text/x-python",
   "name": "python",
   "nbconvert_exporter": "python",
   "pygments_lexer": "ipython3",
   "version": "3.10.6"
  },
  "orig_nbformat": 4
 },
 "nbformat": 4,
 "nbformat_minor": 2
}
