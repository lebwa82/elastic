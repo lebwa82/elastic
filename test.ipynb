{
 "cells": [
  {
   "cell_type": "code",
   "execution_count": 7,
   "metadata": {},
   "outputs": [
    {
     "name": "stdout",
     "output_type": "stream",
     "text": [
      "2–0\n"
     ]
    }
   ],
   "source": [
    "a = '2\\u20130'\n",
    "print(a)"
   ]
  },
  {
   "cell_type": "code",
   "execution_count": 9,
   "metadata": {},
   "outputs": [
    {
     "data": {
      "text/plain": [
       "'20'"
      ]
     },
     "execution_count": 9,
     "metadata": {},
     "output_type": "execute_result"
    }
   ],
   "source": [
    "a.encode('ascii', 'ignore').decode()"
   ]
  },
  {
   "cell_type": "code",
   "execution_count": 8,
   "metadata": {},
   "outputs": [
    {
     "data": {
      "text/plain": [
       "'2–0'"
      ]
     },
     "execution_count": 8,
     "metadata": {},
     "output_type": "execute_result"
    }
   ],
   "source": [
    "a"
   ]
  },
  {
   "cell_type": "code",
   "execution_count": null,
   "metadata": {},
   "outputs": [],
   "source": [
    "\n",
    "predicts = torch.tensor([[1.0000e+00, 1.5581e-14, 8.0536e-15, 6.5220e-14, 9.3445e-14]],\n",
    "       device='cuda:0')"
   ]
  },
  {
   "cell_type": "code",
   "execution_count": 31,
   "metadata": {},
   "outputs": [],
   "source": [
    "\n",
    "import os\n",
    "os.environ['TF_CPP_MIN_LOG_LEVEL'] = '3'\n",
    "import time\n",
    "from elasticsearch7 import Elasticsearch\n",
    "es = Elasticsearch([{'host': 'localhost', 'port': 9200}])\n",
    "import json\n",
    "import time\n",
    "import re\n",
    "glue_text = open('glue_text.txt', 'w')\n",
    "start = time.time()\n",
    "from transformers import BertTokenizer\n",
    "tokenizer = BertTokenizer.from_pretrained('bert-base-uncased')\n",
    "\n",
    "def elastic_more_like_this(sentence):\n",
    "    res  = \"\"\n",
    "    a = es.search(index='bulk1', query = {\n",
    "        \"more_like_this\" : {\n",
    "            \"fields\" : ['text'],\n",
    "            \"like\" : f\"{sentence}\",\n",
    "            \"min_term_freq\" : 1,\n",
    "            \"max_query_terms\" : 12\n",
    "            }\n",
    "        }\n",
    "    )\n",
    "    count = 0\n",
    "    res_list = []\n",
    "    for element in a['hits']['hits']:\n",
    "        el = element['_source']['text'].strip()\n",
    "        #отделить знаки препинания от текста\n",
    "        re_el = re.sub(r'[]!\"$%&\\'()*+,./:;=#@?[\\\\^_`{|}~-]+', r' \\g<0> ', el).strip()\n",
    "        res = f' {re_el} '\n",
    "        res_list.append(res)\n",
    "\n",
    "    return res_list"
   ]
  },
  {
   "cell_type": "code",
   "execution_count": 34,
   "metadata": {},
   "outputs": [],
   "source": [
    "sentence = 'Syria : 24 - Salem Bitar , 3 - Bachar Srour ; 4 - Hassan Abbas , 5 - Tarek Jabban , 6 - Ammar Awad ( 9 - Louay Taleb 69 ) , 8 - Nihad al-Boushi , 10 - Mohammed Afash , 12 - Ali Dib , 13 - Abdul Latif Helou ( 17 - Ammar Rihawiy 46 ) , 14 - Khaled Zaher ; 16 - Nader Jokhadar .'"
   ]
  },
  {
   "cell_type": "code",
   "execution_count": 35,
   "metadata": {},
   "outputs": [
    {
     "data": {
      "text/plain": [
       "[]"
      ]
     },
     "execution_count": 35,
     "metadata": {},
     "output_type": "execute_result"
    }
   ],
   "source": [
    "elastic_more_like_this(sentence)"
   ]
  },
  {
   "cell_type": "code",
   "execution_count": 30,
   "metadata": {},
   "outputs": [
    {
     "data": {
      "text/plain": [
       "{'took': 6,\n",
       " 'timed_out': False,\n",
       " '_shards': {'total': 1, 'successful': 1, 'skipped': 0, 'failed': 0},\n",
       " 'hits': {'total': {'value': 10000, 'relation': 'gte'},\n",
       "  'max_score': 19.296719,\n",
       "  'hits': [{'_index': 'bulk1',\n",
       "    '_type': '_doc',\n",
       "    '_id': '899786',\n",
       "    '_score': 19.296719,\n",
       "    '_ignored': ['text.keyword'],\n",
       "    '_source': {'text': 'Initially, officials were unable to contact the Wolong National Nature Reserve, home to around 280 giant pandas. However, the Foreign Ministry later said that a group of 31 British tourists visiting the Wolong Panda Reserve in the quake-hit area returned safe and uninjured to Chengdu. Nonetheless, the well-being of an even greater number of pandas in the neighbouring panda reserves remained unknown. Five security guards at the reserve were killed by the earthquake. Six pandas escaped after their enclosures were damaged. By May 20, two pandas at the reserve were found to be injured, while the search continued for another two adult pandas that went missing after the quake. By May 28, 2008, one panda was still missing. The missing panda was later found dead under the rubble of an enclosure. Nine-year-old Mao Mao, a mother of five at the breeding center, was discovered on June 9, her body crushed by a wall in her enclosure. Panda keepers and other workers placed her remains in a small wooden crate and buried her outside the breeding centre.\\n'}},\n",
       "   {'_index': 'bulk1',\n",
       "    '_type': '_doc',\n",
       "    '_id': '516350',\n",
       "    '_score': 18.81596,\n",
       "    '_ignored': ['text.keyword'],\n",
       "    '_source': {'text': 'On April 16, 2014, China planned to send a pair of pandas named Fu Wa and Feng Yi to Malaysia to mark their 40-year diplomatic ties but were postponed following the MH370 tragedy. The two pandas later arrived at Kuala Lumpur International Airport on May 21, 2014, and were placed at the National Zoo of Malaysia.\\n'}},\n",
       "   {'_index': 'bulk1',\n",
       "    '_type': '_doc',\n",
       "    '_id': '570343',\n",
       "    '_score': 16.223774,\n",
       "    '_ignored': ['text.keyword'],\n",
       "    '_source': {'text': 'A controversial hypothesis is that some cases of rapid onset of OCD in children and adolescents may be caused by a syndrome connected to Group A streptococcal infections (GABHS), known as pediatric autoimmune neuropsychiatric disorders associated with streptococcal infections (PANDAS). OCD and tic disorders are hypothesized to arise in a subset of children as a result of a post-streptococcal autoimmune process. The PANDAS hypothesis is unconfirmed and unsupported by data, and two new categories have been proposed: PANS (pediatric acute-onset neuropsychiatric syndrome) and CANS (childhood acute neuropsychiatric syndrome). The CANS and PANS hypotheses include different possible mechanisms underlying acute-onset neuropsychiatric conditions, but do not exclude GABHS infections as a cause in a subset of individuals. PANDAS, PANS, and CANS are the focus of clinical and laboratory research, but remain unproven. Whether PANDAS is a distinct entity differing from other cases of tic disorders or OCD is debated.\\n'}},\n",
       "   {'_index': 'bulk1',\n",
       "    '_type': '_doc',\n",
       "    '_id': '242894',\n",
       "    '_score': 16.171513,\n",
       "    '_ignored': ['text.keyword'],\n",
       "    '_source': {'text': 'In the summer of 2014, New York Representative Carolyn B. Maloney visited the Chengdu Panda Base in Sichuan, China and announced her plan to bring giant pandas to New York City. Initially, she aimed to exhibit them at the Central Park Zoo, though switched her attention to the Bronx after deciding the 6.5-acre zoo didn\\'t have the resources to care for the animals. Maloney and her supporters, which included Maurice R. Greenberg, Newt Gingrich, and John A. Catsimatidis, were met with many obstacles throughout their campaign. Initially, the largest issues were the lack of support from Mayor Bill de Blasio and City Hall, and Chinese officials insisting that no more pandas be brought to the United States. However, in October 2015, Chinese Ambassador Cui Tiankai announced that his country was willing to enter preliminary talks with the city over the matter, and soon after de Blasio and City Hall signed a letter appealing to Chinese officials, drafted by Maloney in 2014. Despite her efforts, Maloney\\'s campaign still has yet to overcome two critical steps in acquiring pandas: funding and the zoo\\'s consent. Both de Blasio and the Wildlife Conservation Society refuse to fund the project, not wanting taxpayer or vital zoo money to go towards the highly expensive project. David Towne, chairman of the American-based Giant Panda Conservation Foundation, estimated that the cost of bringing pandas to the city would be around $50 million. The foundation has also said that the cost of keeping just one such animal is about $1 million a year, including food, trainers, and habitat upkeep. Additionally, China loans out their pandas for a hefty fee. A study published by The Washington Post in 2005 found that the four U.S. zoos holding pandas—the Memphis Zoo, the San Diego Zoo, the National Zoological Park (located in Washington, D.C, and Front Royal, Virginia) and Zoo Atlanta—had spent $33 million more on their animals than revenue made off of them between 2000 and 2003. Despite the figures, Maloney believes pandas in her city will do better since the city has a higher population than those four cities combined, and received a record-breaking 56.4-million visitors in 2014. Still, the WCS continues to steer away from bringing in these pandas. In 2014, a senior official from the WCS said Maloney\\'s campaign had reached \"a new level of absurdity\" when it was announced she intended to bring a Chinese delegation to the Central Park Zoo. In November 2015, Jim Breheny, WCS Executive Vice President and Bronx Zoo Director, released a statement saying:\\n'}},\n",
       "   {'_index': 'bulk1',\n",
       "    '_type': '_doc',\n",
       "    '_id': '516352',\n",
       "    '_score': 15.842981,\n",
       "    '_ignored': ['text.keyword'],\n",
       "    '_source': {'text': 'Keeping pandas is very expensive. Beside the cost of the \"rent\" payable to China, obtaining enough bamboo is very expensive. A panda typically consumes only fresh bamboo, eating 40\\xa0kg of it every day. It was reported in 2011 that Edinburgh Zoo spent $107,000 per year to feed its two pandas. This caused the zoo to ask for bamboo donations, as well as for local gardeners to start growing bamboo. During the COVID-19 pandemic, the supply of bamboo added to cost considerations. Owing to the difficulty of securing a consistent and adequate supply of fresh bamboo, Calgary Zoo opted to return their pair of pandas ahead of schedule, to join their progeny back in China.\\n'}},\n",
       "   {'_index': 'bulk1',\n",
       "    '_type': '_doc',\n",
       "    '_id': '354483',\n",
       "    '_score': 15.704748,\n",
       "    '_ignored': ['text.keyword'],\n",
       "    '_source': {'text': 'The exchange of the pandas was first proposed during the 2005 Pan-Blue visits to mainland China, when politicians from the then-Opposition Pan-Blue coalition, which is comparatively pro-unification in stance, visited mainland China. Chen Yunlin, then the head of the State Council Taiwan Affairs Office, announced on May 3, 2005, that Beijing would present two giant pandas to Taipei as part of an exchange program.\\n'}},\n",
       "   {'_index': 'bulk1',\n",
       "    '_type': '_doc',\n",
       "    '_id': '516351',\n",
       "    '_score': 14.744066,\n",
       "    '_source': {'text': 'Two pandas, Cai Tao and Hu Chun, arrived in Jakarta in 2017 to be placed in Taman Safari in Bogor as part of the 60th anniversary celebrations of China–Indonesia relations.\\n'}},\n",
       "   {'_index': 'bulk1',\n",
       "    '_type': '_doc',\n",
       "    '_id': '1063781',\n",
       "    '_score': 14.6692505,\n",
       "    '_source': {'text': 'In recent years, St Mirren have been represented by three mascots, the Pandas. They are Paisley Panda, Junior P and Mrs Panda. The regular mascots are Paisley Panda and Junior P.\\n'}},\n",
       "   {'_index': 'bulk1',\n",
       "    '_type': '_doc',\n",
       "    '_id': '251658',\n",
       "    '_score': 14.640216,\n",
       "    '_source': {'text': 'Plans for the future include a new fisher exhibit and a new Indo-Burma exhibit to include a tiger, red pandas, and a reptile house for Komodo dragons.\\n'}},\n",
       "   {'_index': 'bulk1',\n",
       "    '_type': '_doc',\n",
       "    '_id': '265587',\n",
       "    '_score': 14.384525,\n",
       "    '_ignored': ['text.keyword'],\n",
       "    '_source': {'text': 'In 1987, the zoo began to display rare animals loaned by other zoos. The first animals displayed in this manner were the rare golden snub-nosed monkeys from China in 1987, which attracted more than half a million visitors. This was followed by white tigers from Cincinnati Zoo in 1988 and giant pandas from Wolong National Nature Reserve in 1990.\\n'}}]}}"
      ]
     },
     "execution_count": 30,
     "metadata": {},
     "output_type": "execute_result"
    }
   ],
   "source": [
    "a = es.search(index='bulk1', query = {\n",
    "        \"more_like_this\" : {\n",
    "            \"fields\" : ['text'],\n",
    "            \"like\" : f\"{sentence}\",\n",
    "            \"min_term_freq\" : 1,\n",
    "            \"max_query_terms\" : 12\n",
    "            }\n",
    "        }\n",
    "    )\n",
    "a"
   ]
  },
  {
   "cell_type": "code",
   "execution_count": 26,
   "metadata": {},
   "outputs": [
    {
     "name": "stdout",
     "output_type": "stream",
     "text": [
      "context = -DOCSTART-\n",
      " min_res = 10\n",
      "context = -DOCSTART-\n",
      " max_res = 10\n",
      "context = China controlled most of the match and saw several chances missed until the 78th minute when Uzbek striker Igor Shkvyrin took advantage of a misdirected defensive header to lob the ball over the advancing Chinese keeper and into an empty net .\n",
      " min_res = 7\n",
      "context = Takuya Takagi scored the winner in the 88th minute , rising to head a Hiroshige Yanagimoto cross towards the Syrian goal which goalkeeper Salem Bitar appeared to have covered but then allowed to slip into the net .\n",
      " min_res = 3\n",
      "context = Syria : 24 - Salem Bitar , 3 - Bachar Srour ; 4 - Hassan Abbas , 5 - Tarek Jabban , 6 - Ammar Awad ( 9 - Louay Taleb 69 ) , 8 - Nihad al-Boushi , 10 - Mohammed Afash , 12 - Ali Dib , 13 - Abdul Latif Helou ( 17 - Ammar Rihawiy 46 ) , 14 - Khaled Zaher ; 16 - Nader Jokhadar .\n",
      " min_res = 0\n",
      "count_sentence = 100 time = 1763.7061443328857\n",
      "count_sentence = 200 time = 1764.4930102825165\n",
      "count_sentence = 300 time = 1765.1188027858734\n",
      "count_sentence = 400 time = 1765.8448491096497\n",
      "count_sentence = 500 time = 1766.6173195838928\n",
      "count_sentence = 600 time = 1767.3417646884918\n",
      "count_sentence = 700 time = 1768.4214541912079\n",
      "count_sentence = 800 time = 1769.0538792610168\n",
      "count_sentence = 900 time = 1769.95046377182\n",
      "count_sentence = 1000 time = 1770.5826807022095\n"
     ]
    },
    {
     "ename": "KeyboardInterrupt",
     "evalue": "",
     "output_type": "error",
     "traceback": [
      "\u001b[0;31m---------------------------------------------------------------------------\u001b[0m",
      "\u001b[0;31mKeyboardInterrupt\u001b[0m                         Traceback (most recent call last)",
      "\u001b[1;32m/home/dima/elastic/test.ipynb Ячейка 9\u001b[0m in \u001b[0;36m1\n\u001b[1;32m     <a href='vscode-notebook-cell:/home/dima/elastic/test.ipynb#X11sZmlsZQ%3D%3D?line=15'>16</a>\u001b[0m context \u001b[39m=\u001b[39m sentence[\u001b[39m'\u001b[39m\u001b[39mcontext\u001b[39m\u001b[39m'\u001b[39m]\n\u001b[1;32m     <a href='vscode-notebook-cell:/home/dima/elastic/test.ipynb#X11sZmlsZQ%3D%3D?line=16'>17</a>\u001b[0m \u001b[39m#print(f'context = {context}')\u001b[39;00m\n\u001b[0;32m---> <a href='vscode-notebook-cell:/home/dima/elastic/test.ipynb#X11sZmlsZQ%3D%3D?line=17'>18</a>\u001b[0m a \u001b[39m=\u001b[39m es\u001b[39m.\u001b[39msearch(index\u001b[39m=\u001b[39m\u001b[39m'\u001b[39m\u001b[39mbulk1\u001b[39m\u001b[39m'\u001b[39m, query \u001b[39m=\u001b[39m {\n\u001b[1;32m     <a href='vscode-notebook-cell:/home/dima/elastic/test.ipynb#X11sZmlsZQ%3D%3D?line=18'>19</a>\u001b[0m     \u001b[39m\"\u001b[39m\u001b[39mmore_like_this\u001b[39m\u001b[39m\"\u001b[39m : {\n\u001b[1;32m     <a href='vscode-notebook-cell:/home/dima/elastic/test.ipynb#X11sZmlsZQ%3D%3D?line=19'>20</a>\u001b[0m         \u001b[39m\"\u001b[39m\u001b[39mfields\u001b[39m\u001b[39m\"\u001b[39m : [\u001b[39m'\u001b[39m\u001b[39mtext\u001b[39m\u001b[39m'\u001b[39m],\n\u001b[1;32m     <a href='vscode-notebook-cell:/home/dima/elastic/test.ipynb#X11sZmlsZQ%3D%3D?line=20'>21</a>\u001b[0m         \u001b[39m\"\u001b[39m\u001b[39mlike\u001b[39m\u001b[39m\"\u001b[39m : \u001b[39mf\u001b[39m\u001b[39m\"\u001b[39m\u001b[39m{\u001b[39;00msentence\u001b[39m}\u001b[39;00m\u001b[39m\"\u001b[39m,\n\u001b[1;32m     <a href='vscode-notebook-cell:/home/dima/elastic/test.ipynb#X11sZmlsZQ%3D%3D?line=21'>22</a>\u001b[0m         \u001b[39m\"\u001b[39m\u001b[39mmin_term_freq\u001b[39m\u001b[39m\"\u001b[39m : \u001b[39m1\u001b[39m,\n\u001b[1;32m     <a href='vscode-notebook-cell:/home/dima/elastic/test.ipynb#X11sZmlsZQ%3D%3D?line=22'>23</a>\u001b[0m         \u001b[39m\"\u001b[39m\u001b[39mmax_query_terms\u001b[39m\u001b[39m\"\u001b[39m : \u001b[39m12\u001b[39m\n\u001b[1;32m     <a href='vscode-notebook-cell:/home/dima/elastic/test.ipynb#X11sZmlsZQ%3D%3D?line=23'>24</a>\u001b[0m         }\n\u001b[1;32m     <a href='vscode-notebook-cell:/home/dima/elastic/test.ipynb#X11sZmlsZQ%3D%3D?line=24'>25</a>\u001b[0m     }\n\u001b[1;32m     <a href='vscode-notebook-cell:/home/dima/elastic/test.ipynb#X11sZmlsZQ%3D%3D?line=25'>26</a>\u001b[0m )\n\u001b[1;32m     <a href='vscode-notebook-cell:/home/dima/elastic/test.ipynb#X11sZmlsZQ%3D%3D?line=26'>27</a>\u001b[0m \u001b[39m#pprint.pprint(a)\u001b[39;00m\n\u001b[1;32m     <a href='vscode-notebook-cell:/home/dima/elastic/test.ipynb#X11sZmlsZQ%3D%3D?line=28'>29</a>\u001b[0m res \u001b[39m=\u001b[39m a[\u001b[39m'\u001b[39m\u001b[39mtook\u001b[39m\u001b[39m'\u001b[39m]\n",
      "File \u001b[0;32m~/.local/lib/python3.10/site-packages/elasticsearch7/client/utils.py:347\u001b[0m, in \u001b[0;36mquery_params.<locals>._wrapper.<locals>._wrapped\u001b[0;34m(*args, **kwargs)\u001b[0m\n\u001b[1;32m    345\u001b[0m     \u001b[39mif\u001b[39;00m p \u001b[39min\u001b[39;00m kwargs:\n\u001b[1;32m    346\u001b[0m         params[p] \u001b[39m=\u001b[39m kwargs\u001b[39m.\u001b[39mpop(p)\n\u001b[0;32m--> 347\u001b[0m \u001b[39mreturn\u001b[39;00m func(\u001b[39m*\u001b[39;49margs, params\u001b[39m=\u001b[39;49mparams, headers\u001b[39m=\u001b[39;49mheaders, \u001b[39m*\u001b[39;49m\u001b[39m*\u001b[39;49mkwargs)\n",
      "File \u001b[0;32m~/.local/lib/python3.10/site-packages/elasticsearch7/client/__init__.py:1821\u001b[0m, in \u001b[0;36mElasticsearch.search\u001b[0;34m(self, body, index, doc_type, params, headers)\u001b[0m\n\u001b[1;32m   1818\u001b[0m \u001b[39mif\u001b[39;00m \u001b[39m\"\u001b[39m\u001b[39mfrom_\u001b[39m\u001b[39m\"\u001b[39m \u001b[39min\u001b[39;00m params:\n\u001b[1;32m   1819\u001b[0m     params[\u001b[39m\"\u001b[39m\u001b[39mfrom\u001b[39m\u001b[39m\"\u001b[39m] \u001b[39m=\u001b[39m params\u001b[39m.\u001b[39mpop(\u001b[39m\"\u001b[39m\u001b[39mfrom_\u001b[39m\u001b[39m\"\u001b[39m)\n\u001b[0;32m-> 1821\u001b[0m \u001b[39mreturn\u001b[39;00m \u001b[39mself\u001b[39;49m\u001b[39m.\u001b[39;49mtransport\u001b[39m.\u001b[39;49mperform_request(\n\u001b[1;32m   1822\u001b[0m     \u001b[39m\"\u001b[39;49m\u001b[39mPOST\u001b[39;49m\u001b[39m\"\u001b[39;49m,\n\u001b[1;32m   1823\u001b[0m     _make_path(index, doc_type, \u001b[39m\"\u001b[39;49m\u001b[39m_search\u001b[39;49m\u001b[39m\"\u001b[39;49m),\n\u001b[1;32m   1824\u001b[0m     params\u001b[39m=\u001b[39;49mparams,\n\u001b[1;32m   1825\u001b[0m     headers\u001b[39m=\u001b[39;49mheaders,\n\u001b[1;32m   1826\u001b[0m     body\u001b[39m=\u001b[39;49mbody,\n\u001b[1;32m   1827\u001b[0m )\n",
      "File \u001b[0;32m~/.local/lib/python3.10/site-packages/elasticsearch7/transport.py:427\u001b[0m, in \u001b[0;36mTransport.perform_request\u001b[0;34m(self, method, url, headers, params, body)\u001b[0m\n\u001b[1;32m    424\u001b[0m connection \u001b[39m=\u001b[39m \u001b[39mself\u001b[39m\u001b[39m.\u001b[39mget_connection()\n\u001b[1;32m    426\u001b[0m \u001b[39mtry\u001b[39;00m:\n\u001b[0;32m--> 427\u001b[0m     status, headers_response, data \u001b[39m=\u001b[39m connection\u001b[39m.\u001b[39;49mperform_request(\n\u001b[1;32m    428\u001b[0m         method,\n\u001b[1;32m    429\u001b[0m         url,\n\u001b[1;32m    430\u001b[0m         params,\n\u001b[1;32m    431\u001b[0m         body,\n\u001b[1;32m    432\u001b[0m         headers\u001b[39m=\u001b[39;49mheaders,\n\u001b[1;32m    433\u001b[0m         ignore\u001b[39m=\u001b[39;49mignore,\n\u001b[1;32m    434\u001b[0m         timeout\u001b[39m=\u001b[39;49mtimeout,\n\u001b[1;32m    435\u001b[0m     )\n\u001b[1;32m    437\u001b[0m     \u001b[39m# Lowercase all the header names for consistency in accessing them.\u001b[39;00m\n\u001b[1;32m    438\u001b[0m     headers_response \u001b[39m=\u001b[39m {\n\u001b[1;32m    439\u001b[0m         header\u001b[39m.\u001b[39mlower(): value \u001b[39mfor\u001b[39;00m header, value \u001b[39min\u001b[39;00m headers_response\u001b[39m.\u001b[39mitems()\n\u001b[1;32m    440\u001b[0m     }\n",
      "File \u001b[0;32m~/.local/lib/python3.10/site-packages/elasticsearch7/connection/http_urllib3.py:255\u001b[0m, in \u001b[0;36mUrllib3HttpConnection.perform_request\u001b[0;34m(self, method, url, params, body, timeout, ignore, headers)\u001b[0m\n\u001b[1;32m    252\u001b[0m     body \u001b[39m=\u001b[39m \u001b[39mself\u001b[39m\u001b[39m.\u001b[39m_gzip_compress(body)\n\u001b[1;32m    253\u001b[0m     request_headers[\u001b[39m\"\u001b[39m\u001b[39mcontent-encoding\u001b[39m\u001b[39m\"\u001b[39m] \u001b[39m=\u001b[39m \u001b[39m\"\u001b[39m\u001b[39mgzip\u001b[39m\u001b[39m\"\u001b[39m\n\u001b[0;32m--> 255\u001b[0m response \u001b[39m=\u001b[39m \u001b[39mself\u001b[39;49m\u001b[39m.\u001b[39;49mpool\u001b[39m.\u001b[39;49murlopen(\n\u001b[1;32m    256\u001b[0m     method, url, body, retries\u001b[39m=\u001b[39;49mRetry(\u001b[39mFalse\u001b[39;49;00m), headers\u001b[39m=\u001b[39;49mrequest_headers, \u001b[39m*\u001b[39;49m\u001b[39m*\u001b[39;49mkw\n\u001b[1;32m    257\u001b[0m )\n\u001b[1;32m    258\u001b[0m response_headers \u001b[39m=\u001b[39m {\n\u001b[1;32m    259\u001b[0m     header\u001b[39m.\u001b[39mlower(): value \u001b[39mfor\u001b[39;00m header, value \u001b[39min\u001b[39;00m response\u001b[39m.\u001b[39mheaders\u001b[39m.\u001b[39mitems()\n\u001b[1;32m    260\u001b[0m }\n\u001b[1;32m    261\u001b[0m duration \u001b[39m=\u001b[39m time\u001b[39m.\u001b[39mtime() \u001b[39m-\u001b[39m start\n",
      "File \u001b[0;32m/usr/local/lib/python3.10/dist-packages/urllib3/connectionpool.py:703\u001b[0m, in \u001b[0;36mHTTPConnectionPool.urlopen\u001b[0;34m(self, method, url, body, headers, retries, redirect, assert_same_host, timeout, pool_timeout, release_conn, chunked, body_pos, **response_kw)\u001b[0m\n\u001b[1;32m    700\u001b[0m     \u001b[39mself\u001b[39m\u001b[39m.\u001b[39m_prepare_proxy(conn)\n\u001b[1;32m    702\u001b[0m \u001b[39m# Make the request on the httplib connection object.\u001b[39;00m\n\u001b[0;32m--> 703\u001b[0m httplib_response \u001b[39m=\u001b[39m \u001b[39mself\u001b[39;49m\u001b[39m.\u001b[39;49m_make_request(\n\u001b[1;32m    704\u001b[0m     conn,\n\u001b[1;32m    705\u001b[0m     method,\n\u001b[1;32m    706\u001b[0m     url,\n\u001b[1;32m    707\u001b[0m     timeout\u001b[39m=\u001b[39;49mtimeout_obj,\n\u001b[1;32m    708\u001b[0m     body\u001b[39m=\u001b[39;49mbody,\n\u001b[1;32m    709\u001b[0m     headers\u001b[39m=\u001b[39;49mheaders,\n\u001b[1;32m    710\u001b[0m     chunked\u001b[39m=\u001b[39;49mchunked,\n\u001b[1;32m    711\u001b[0m )\n\u001b[1;32m    713\u001b[0m \u001b[39m# If we're going to release the connection in ``finally:``, then\u001b[39;00m\n\u001b[1;32m    714\u001b[0m \u001b[39m# the response doesn't need to know about the connection. Otherwise\u001b[39;00m\n\u001b[1;32m    715\u001b[0m \u001b[39m# it will also try to release it and we'll have a double-release\u001b[39;00m\n\u001b[1;32m    716\u001b[0m \u001b[39m# mess.\u001b[39;00m\n\u001b[1;32m    717\u001b[0m response_conn \u001b[39m=\u001b[39m conn \u001b[39mif\u001b[39;00m \u001b[39mnot\u001b[39;00m release_conn \u001b[39melse\u001b[39;00m \u001b[39mNone\u001b[39;00m\n",
      "File \u001b[0;32m/usr/local/lib/python3.10/dist-packages/urllib3/connectionpool.py:449\u001b[0m, in \u001b[0;36mHTTPConnectionPool._make_request\u001b[0;34m(self, conn, method, url, timeout, chunked, **httplib_request_kw)\u001b[0m\n\u001b[1;32m    444\u001b[0m             httplib_response \u001b[39m=\u001b[39m conn\u001b[39m.\u001b[39mgetresponse()\n\u001b[1;32m    445\u001b[0m         \u001b[39mexcept\u001b[39;00m \u001b[39mBaseException\u001b[39;00m \u001b[39mas\u001b[39;00m e:\n\u001b[1;32m    446\u001b[0m             \u001b[39m# Remove the TypeError from the exception chain in\u001b[39;00m\n\u001b[1;32m    447\u001b[0m             \u001b[39m# Python 3 (including for exceptions like SystemExit).\u001b[39;00m\n\u001b[1;32m    448\u001b[0m             \u001b[39m# Otherwise it looks like a bug in the code.\u001b[39;00m\n\u001b[0;32m--> 449\u001b[0m             six\u001b[39m.\u001b[39;49mraise_from(e, \u001b[39mNone\u001b[39;49;00m)\n\u001b[1;32m    450\u001b[0m \u001b[39mexcept\u001b[39;00m (SocketTimeout, BaseSSLError, SocketError) \u001b[39mas\u001b[39;00m e:\n\u001b[1;32m    451\u001b[0m     \u001b[39mself\u001b[39m\u001b[39m.\u001b[39m_raise_timeout(err\u001b[39m=\u001b[39me, url\u001b[39m=\u001b[39murl, timeout_value\u001b[39m=\u001b[39mread_timeout)\n",
      "File \u001b[0;32m<string>:3\u001b[0m, in \u001b[0;36mraise_from\u001b[0;34m(value, from_value)\u001b[0m\n",
      "File \u001b[0;32m/usr/local/lib/python3.10/dist-packages/urllib3/connectionpool.py:444\u001b[0m, in \u001b[0;36mHTTPConnectionPool._make_request\u001b[0;34m(self, conn, method, url, timeout, chunked, **httplib_request_kw)\u001b[0m\n\u001b[1;32m    441\u001b[0m \u001b[39mexcept\u001b[39;00m \u001b[39mTypeError\u001b[39;00m:\n\u001b[1;32m    442\u001b[0m     \u001b[39m# Python 3\u001b[39;00m\n\u001b[1;32m    443\u001b[0m     \u001b[39mtry\u001b[39;00m:\n\u001b[0;32m--> 444\u001b[0m         httplib_response \u001b[39m=\u001b[39m conn\u001b[39m.\u001b[39;49mgetresponse()\n\u001b[1;32m    445\u001b[0m     \u001b[39mexcept\u001b[39;00m \u001b[39mBaseException\u001b[39;00m \u001b[39mas\u001b[39;00m e:\n\u001b[1;32m    446\u001b[0m         \u001b[39m# Remove the TypeError from the exception chain in\u001b[39;00m\n\u001b[1;32m    447\u001b[0m         \u001b[39m# Python 3 (including for exceptions like SystemExit).\u001b[39;00m\n\u001b[1;32m    448\u001b[0m         \u001b[39m# Otherwise it looks like a bug in the code.\u001b[39;00m\n\u001b[1;32m    449\u001b[0m         six\u001b[39m.\u001b[39mraise_from(e, \u001b[39mNone\u001b[39;00m)\n",
      "File \u001b[0;32m/usr/lib/python3.10/http/client.py:1374\u001b[0m, in \u001b[0;36mHTTPConnection.getresponse\u001b[0;34m(self)\u001b[0m\n\u001b[1;32m   1372\u001b[0m \u001b[39mtry\u001b[39;00m:\n\u001b[1;32m   1373\u001b[0m     \u001b[39mtry\u001b[39;00m:\n\u001b[0;32m-> 1374\u001b[0m         response\u001b[39m.\u001b[39;49mbegin()\n\u001b[1;32m   1375\u001b[0m     \u001b[39mexcept\u001b[39;00m \u001b[39mConnectionError\u001b[39;00m:\n\u001b[1;32m   1376\u001b[0m         \u001b[39mself\u001b[39m\u001b[39m.\u001b[39mclose()\n",
      "File \u001b[0;32m/usr/lib/python3.10/http/client.py:318\u001b[0m, in \u001b[0;36mHTTPResponse.begin\u001b[0;34m(self)\u001b[0m\n\u001b[1;32m    316\u001b[0m \u001b[39m# read until we get a non-100 response\u001b[39;00m\n\u001b[1;32m    317\u001b[0m \u001b[39mwhile\u001b[39;00m \u001b[39mTrue\u001b[39;00m:\n\u001b[0;32m--> 318\u001b[0m     version, status, reason \u001b[39m=\u001b[39m \u001b[39mself\u001b[39;49m\u001b[39m.\u001b[39;49m_read_status()\n\u001b[1;32m    319\u001b[0m     \u001b[39mif\u001b[39;00m status \u001b[39m!=\u001b[39m CONTINUE:\n\u001b[1;32m    320\u001b[0m         \u001b[39mbreak\u001b[39;00m\n",
      "File \u001b[0;32m/usr/lib/python3.10/http/client.py:279\u001b[0m, in \u001b[0;36mHTTPResponse._read_status\u001b[0;34m(self)\u001b[0m\n\u001b[1;32m    278\u001b[0m \u001b[39mdef\u001b[39;00m \u001b[39m_read_status\u001b[39m(\u001b[39mself\u001b[39m):\n\u001b[0;32m--> 279\u001b[0m     line \u001b[39m=\u001b[39m \u001b[39mstr\u001b[39m(\u001b[39mself\u001b[39;49m\u001b[39m.\u001b[39;49mfp\u001b[39m.\u001b[39;49mreadline(_MAXLINE \u001b[39m+\u001b[39;49m \u001b[39m1\u001b[39;49m), \u001b[39m\"\u001b[39m\u001b[39miso-8859-1\u001b[39m\u001b[39m\"\u001b[39m)\n\u001b[1;32m    280\u001b[0m     \u001b[39mif\u001b[39;00m \u001b[39mlen\u001b[39m(line) \u001b[39m>\u001b[39m _MAXLINE:\n\u001b[1;32m    281\u001b[0m         \u001b[39mraise\u001b[39;00m LineTooLong(\u001b[39m\"\u001b[39m\u001b[39mstatus line\u001b[39m\u001b[39m\"\u001b[39m)\n",
      "File \u001b[0;32m/usr/lib/python3.10/socket.py:705\u001b[0m, in \u001b[0;36mSocketIO.readinto\u001b[0;34m(self, b)\u001b[0m\n\u001b[1;32m    703\u001b[0m \u001b[39mwhile\u001b[39;00m \u001b[39mTrue\u001b[39;00m:\n\u001b[1;32m    704\u001b[0m     \u001b[39mtry\u001b[39;00m:\n\u001b[0;32m--> 705\u001b[0m         \u001b[39mreturn\u001b[39;00m \u001b[39mself\u001b[39;49m\u001b[39m.\u001b[39;49m_sock\u001b[39m.\u001b[39;49mrecv_into(b)\n\u001b[1;32m    706\u001b[0m     \u001b[39mexcept\u001b[39;00m timeout:\n\u001b[1;32m    707\u001b[0m         \u001b[39mself\u001b[39m\u001b[39m.\u001b[39m_timeout_occurred \u001b[39m=\u001b[39m \u001b[39mTrue\u001b[39;00m\n",
      "\u001b[0;31mKeyboardInterrupt\u001b[0m: "
     ]
    }
   ],
   "source": [
    "input_file = open(\"spanner.test\")\n",
    "import pprint\n",
    "min_res = 100\n",
    "max_res = 0\n",
    "\n",
    "res_list = []\n",
    "conll = json.load(input_file)\n",
    "count_sentence = 0\n",
    "for sentence in conll:\n",
    "    count_sentence += 1\n",
    "    if count_sentence %100 == 0:\n",
    "        print(f'count_sentence = {count_sentence} time = {time.time() - start}')\n",
    "        #break\n",
    "\n",
    "    span_posLabel = sentence['span_posLabel']\n",
    "    context = sentence['context']\n",
    "    #print(f'context = {context}')\n",
    "    a = es.search(index='bulk1', query = {\n",
    "        \"more_like_this\" : {\n",
    "            \"fields\" : ['text'],\n",
    "            \"like\" : f\"{sentence}\",\n",
    "            \"min_term_freq\" : 1,\n",
    "            \"max_query_terms\" : 12\n",
    "            }\n",
    "        }\n",
    "    )\n",
    "    #pprint.pprint(a)\n",
    "    \n",
    "    res = a['took']\n",
    "    #print(res)\n",
    "    abc = a['hits']['hits']\n",
    "    count_answers = len(abc)\n",
    "    #print(f'len = {len(abc)}')\n",
    "    for element in a['hits']['hits']:\n",
    "        el = element['_source']['text'].strip()\n",
    "        #отделить знаки препинания от текста\n",
    "        re_el = re.sub(r'[]!\"$%&\\'()*+,./:;=#@?[\\\\^_`{|}~-]+', r' \\g<0> ', el).strip()\n",
    "        #print('re_el = ', re_el)\n",
    "\n",
    "    if count_answers < min_res:\n",
    "        min_res = count_answers\n",
    "        print(f'context = {context}\\n min_res = {min_res}')\n",
    "    if count_answers > max_res:\n",
    "        max_res = count_answers\n",
    "        print(f'context = {context}\\n max_res = {max_res}')"
   ]
  },
  {
   "cell_type": "code",
   "execution_count": null,
   "metadata": {},
   "outputs": [],
   "source": []
  }
 ],
 "metadata": {
  "kernelspec": {
   "display_name": "Python 3",
   "language": "python",
   "name": "python3"
  },
  "language_info": {
   "codemirror_mode": {
    "name": "ipython",
    "version": 3
   },
   "file_extension": ".py",
   "mimetype": "text/x-python",
   "name": "python",
   "nbconvert_exporter": "python",
   "pygments_lexer": "ipython3",
   "version": "3.10.6"
  },
  "orig_nbformat": 4
 },
 "nbformat": 4,
 "nbformat_minor": 2
}
