{
 "cells": [
  {
   "cell_type": "code",
   "execution_count": 4,
   "metadata": {},
   "outputs": [],
   "source": [
    "import pickle\n",
    "test_file = open('test.txt', 'wb')\n",
    "L = [ 2.85, 3.35, -1.77, 9.2 ]\n",
    "pickle.dump(L, test_file)\n",
    "L222 = [222]\n",
    "pickle.dump(L222, test_file)\n",
    "test_file.close()"
   ]
  },
  {
   "cell_type": "code",
   "execution_count": 7,
   "metadata": {},
   "outputs": [
    {
     "name": "stdout",
     "output_type": "stream",
     "text": [
      "L2 =  [2.85, 3.35, -1.77, 9.2]\n",
      "L2 =  [222]\n"
     ]
    },
    {
     "ename": "EOFError",
     "evalue": "Ran out of input",
     "output_type": "error",
     "traceback": [
      "\u001b[0;31m---------------------------------------------------------------------------\u001b[0m",
      "\u001b[0;31mEOFError\u001b[0m                                  Traceback (most recent call last)",
      "\u001b[1;32m/home/dima/elastic/test_picle.ipynb Ячейка 2\u001b[0m in \u001b[0;36m1\n\u001b[1;32m     <a href='vscode-notebook-cell:/home/dima/elastic/test_picle.ipynb#W1sZmlsZQ%3D%3D?line=11'>12</a>\u001b[0m \u001b[39mprint\u001b[39m(\u001b[39m'\u001b[39m\u001b[39mL2 = \u001b[39m\u001b[39m'\u001b[39m, L2) \u001b[39m# L2 = [2.85, 3.35, -1.77, 9.2]\u001b[39;00m\n\u001b[1;32m     <a href='vscode-notebook-cell:/home/dima/elastic/test_picle.ipynb#W1sZmlsZQ%3D%3D?line=12'>13</a>\u001b[0m \u001b[39m# 4.4. Закрыть файл\u001b[39;00m\n\u001b[0;32m---> <a href='vscode-notebook-cell:/home/dima/elastic/test_picle.ipynb#W1sZmlsZQ%3D%3D?line=13'>14</a>\u001b[0m L2 \u001b[39m=\u001b[39m pickle\u001b[39m.\u001b[39mload(f)\n\u001b[1;32m     <a href='vscode-notebook-cell:/home/dima/elastic/test_picle.ipynb#W1sZmlsZQ%3D%3D?line=15'>16</a>\u001b[0m \u001b[39m# 4.3. Вывести список L2\u001b[39;00m\n\u001b[1;32m     <a href='vscode-notebook-cell:/home/dima/elastic/test_picle.ipynb#W1sZmlsZQ%3D%3D?line=16'>17</a>\u001b[0m \u001b[39mprint\u001b[39m(\u001b[39m'\u001b[39m\u001b[39mL2 = \u001b[39m\u001b[39m'\u001b[39m, L2)\n",
      "\u001b[0;31mEOFError\u001b[0m: Ran out of input"
     ]
    }
   ],
   "source": [
    "f = open('test.txt', 'rb')\n",
    "\n",
    "# 4.2. Считать список из файла\n",
    "L2 = pickle.load(f)\n",
    "\n",
    "# 4.3. Вывести список L2\n",
    "print('L2 = ', L2) # L2 = [2.85, 3.35, -1.77, 9.2]\n",
    "\n",
    "L2 = pickle.load(f)\n",
    "\n",
    "# 4.3. Вывести список L2\n",
    "print('L2 = ', L2) # L2 = [2.85, 3.35, -1.77, 9.2]\n",
    "# 4.4. Закрыть файл\n"
   ]
  }
 ],
 "metadata": {
  "kernelspec": {
   "display_name": "Python 3",
   "language": "python",
   "name": "python3"
  },
  "language_info": {
   "codemirror_mode": {
    "name": "ipython",
    "version": 3
   },
   "file_extension": ".py",
   "mimetype": "text/x-python",
   "name": "python",
   "nbconvert_exporter": "python",
   "pygments_lexer": "ipython3",
   "version": "3.10.6"
  },
  "orig_nbformat": 4
 },
 "nbformat": 4,
 "nbformat_minor": 2
}
